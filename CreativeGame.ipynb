{
 "cells": [
  {
   "cell_type": "code",
   "execution_count": 1,
   "id": "d725fc19-20c8-4e93-96ac-9cdd4624d0ac",
   "metadata": {
    "tags": []
   },
   "outputs": [],
   "source": [
    "import numpy as np\n",
    "import matplotlib.pyplot as plt\n",
    "from scipy.stats import uniform, norm\n",
    "import seaborn as sns\n",
    "%matplotlib qt\n",
    "\n",
    "import random"
   ]
  },
  {
   "cell_type": "code",
   "execution_count": 2,
   "id": "1e10d2c8-902c-4d52-a8f4-f14e2a8688e5",
   "metadata": {
    "tags": []
   },
   "outputs": [],
   "source": [
    "def number(): #This function plays the game. Print commands are left in for marker to test the code.\n",
    "    position = 1\n",
    "    score = 0\n",
    "    while True:\n",
    "        if position == 8:\n",
    "            #print('My position is', position)\n",
    "            position = position+1\n",
    "            #print('My new position is', position)\n",
    "        elif position == 9:\n",
    "            #print('My position is', position)\n",
    "            score = score + 1\n",
    "            #print('My score is', score)\n",
    "            break\n",
    "        \n",
    "        elif position == 1:\n",
    "            #print('My position is', position)\n",
    "            if random.randint(0,100) < 51:     #This code changes the chance of rolling a 1 or 2\n",
    "                position = position + 1\n",
    "            else:\n",
    "                position = position + 2\n",
    "            #position = position + random.choice([1,2])\n",
    "            #print('My new position is', position)\n",
    "            if position == 2:\n",
    "                score = score - 1\n",
    "                #print(position, 'My new score is', score)\n",
    "            else:\n",
    "                score = score + 1\n",
    "                #print(position, 'My new score is', score)\n",
    "        else:\n",
    "            #print('My position is', position)\n",
    "            if random.randint(0,100) < 51:     #This code changes the chance of rolling a 1 or 2\n",
    "                position = position + 1\n",
    "            else:\n",
    "                position = position + 2\n",
    "            #position = position + random.choice([1,2])\n",
    "            #print('My new position is', position)\n",
    "            if position == 2 or position == 4 or position == 6 or position==8:\n",
    "                score = score - 1\n",
    "                #print(position, 'My new score is', score)\n",
    "            elif position == 9:\n",
    "                score = score\n",
    "            else: \n",
    "                score = score + 1\n",
    "                #print(position, 'My new score is', score)\n",
    "\n",
    "    return score"
   ]
  },
  {
   "cell_type": "code",
   "execution_count": 3,
   "id": "3de9a481-45c7-4570-a5a1-fcc30affd087",
   "metadata": {
    "tags": []
   },
   "outputs": [
    {
     "name": "stdout",
     "output_type": "stream",
     "text": [
      "0\n"
     ]
    }
   ],
   "source": [
    "x = number()\n",
    "print(x)\n",
    "#print(random.choice([1,2]))"
   ]
  },
  {
   "cell_type": "code",
   "execution_count": 4,
   "id": "e3e655c3-5179-4861-8c2b-5f14de0d053a",
   "metadata": {
    "tags": []
   },
   "outputs": [],
   "source": [
    "N=100000\n",
    "finals=[]\n",
    "for i in range(N):\n",
    "    element = number()\n",
    "    finals.append(element)\n",
    "    finals.sort()\n",
    "\n",
    "    "
   ]
  },
  {
   "cell_type": "code",
   "execution_count": 5,
   "id": "53cf9571-ad8a-4743-9e79-0b60197cd555",
   "metadata": {
    "tags": []
   },
   "outputs": [],
   "source": [
    "Max = max(finals)+1\n",
    "Min= min(finals)-1\n",
    "\n",
    "fig,(ax1) = plt.subplots(1,1)\n",
    "bins = np.arange(Min-0.5, Max+0.5)\n",
    "prob, a1, a2 = ax1.hist(finals, bins, \n",
    "               density=True, color='purple')\n",
    "ax1.set_ylabel('Probability distribution')\n",
    "ax1.set_xlabel('Final Score')\n",
    "ax1.set_title('Distribution of final scores')\n",
    "\n",
    "\n",
    "#plt.subplots_adjust(hspace=0.1)\n",
    "#plt.setp(ax1.get_xticklabels(), visible=False)\n",
    "\n",
    "\n",
    "\n",
    "for X in [ax1]:\n",
    "    X.set_xlim(-Max,Max)\n",
    "    X.xaxis.set_ticks(np.arange(-Max, Max, 1.0))\n",
    "    X.grid()\n",
    "\n",
    "\n",
    "plt.show()"
   ]
  },
  {
   "cell_type": "raw",
   "id": "4f0af2c6-2b16-41b5-b70f-c7c06905fd90",
   "metadata": {},
   "source": []
  }
 ],
 "metadata": {
  "kernelspec": {
   "display_name": "Python 3 (ipykernel)",
   "language": "python",
   "name": "python3"
  },
  "language_info": {
   "codemirror_mode": {
    "name": "ipython",
    "version": 3
   },
   "file_extension": ".py",
   "mimetype": "text/x-python",
   "name": "python",
   "nbconvert_exporter": "python",
   "pygments_lexer": "ipython3",
   "version": "3.11.5"
  }
 },
 "nbformat": 4,
 "nbformat_minor": 5
}
